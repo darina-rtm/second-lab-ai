{
 "cells": [
  {
   "cell_type": "markdown",
   "id": "dc79b447",
   "metadata": {},
   "source": [
    "# Лабораторная работа №2\n",
    "**Тема**: NumPy. Работа с массивами и матрицами\n",
    "**Название репозитория**: `second laba ai`\n",
    "**Язык**: русский\n"
   ]
  },
  {
   "cell_type": "markdown",
   "id": "a53f6100",
   "metadata": {},
   "source": [
    "## Задание 1"
   ]
  },
  {
   "cell_type": "code",
   "execution_count": null,
   "id": "624fc1c2",
   "metadata": {},
   "outputs": [],
   "source": [
    "\n",
    "import numpy as np\n",
    "\n",
    "arr = np.arange(1, 10).reshape(3, 3)\n",
    "arr = arr * 2\n",
    "arr[arr > 10] = 0\n",
    "print(arr)\n",
    "    "
   ]
  },
  {
   "cell_type": "markdown",
   "id": "bfb5ff2d",
   "metadata": {},
   "source": [
    "## Задание 2"
   ]
  },
  {
   "cell_type": "code",
   "execution_count": null,
   "id": "2349840a",
   "metadata": {},
   "outputs": [],
   "source": [
    "\n",
    "arr = np.random.randint(1, 101, 20)\n",
    "print(\"Исходный массив:\", arr)\n",
    "\n",
    "div_by_5 = arr[arr % 5 == 0]\n",
    "print(\"Элементы, делящиеся на 5:\", div_by_5)\n",
    "\n",
    "arr[arr % 5 == 0] = -1\n",
    "print(\"Обновленный массив:\", arr)\n",
    "    "
   ]
  },
  {
   "cell_type": "markdown",
   "id": "707c0bf8",
   "metadata": {},
   "source": [
    "## Задание 3"
   ]
  },
  {
   "cell_type": "code",
   "execution_count": null,
   "id": "7b1af84b",
   "metadata": {},
   "outputs": [],
   "source": [
    "\n",
    "a = np.random.randint(0, 51, 5)\n",
    "b = np.random.randint(0, 51, 5)\n",
    "print(\"Массив A:\", a)\n",
    "print(\"Массив B:\", b)\n",
    "\n",
    "combined = np.vstack((a, b))\n",
    "print(\"Объединенный массив:\n",
    "\", combined)\n",
    "\n",
    "split1, split2 = combined[0], combined[1]\n",
    "print(\"Первый массив:\", split1)\n",
    "print(\"Второй массив:\", split2)\n",
    "    "
   ]
  },
  {
   "cell_type": "markdown",
   "id": "dc5d6107",
   "metadata": {},
   "source": [
    "## Задание 4"
   ]
  },
  {
   "cell_type": "code",
   "execution_count": null,
   "id": "9d46ac47",
   "metadata": {},
   "outputs": [],
   "source": [
    "\n",
    "arr = np.linspace(-10, 10, 50)\n",
    "sum_all = np.sum(arr)\n",
    "sum_positive = np.sum(arr[arr > 0])\n",
    "sum_negative = np.sum(arr[arr < 0])\n",
    "\n",
    "print(f\"Сумма всех элементов: {sum_all}\")\n",
    "print(f\"Сумма положительных элементов: {sum_positive}\")\n",
    "print(f\"Сумма отрицательных элементов: {sum_negative}\")\n",
    "    "
   ]
  },
  {
   "cell_type": "markdown",
   "id": "971bec1d",
   "metadata": {},
   "source": [
    "## Задание 5"
   ]
  },
  {
   "cell_type": "code",
   "execution_count": null,
   "id": "93dc94e4",
   "metadata": {},
   "outputs": [],
   "source": [
    "\n",
    "identity_matrix = np.eye(4)\n",
    "diagonal_matrix = np.diag([5, 10, 15, 20])\n",
    "\n",
    "sum_identity = np.sum(identity_matrix)\n",
    "sum_diagonal = np.sum(diagonal_matrix)\n",
    "\n",
    "print(\"Сумма элементов единичной матрицы:\", sum_identity)\n",
    "print(\"Сумма элементов диагональной матрицы:\", sum_diagonal)\n",
    "    "
   ]
  },
  {
   "cell_type": "markdown",
   "id": "6c9781de",
   "metadata": {},
   "source": [
    "## Задание 6"
   ]
  },
  {
   "cell_type": "code",
   "execution_count": null,
   "id": "caa67648",
   "metadata": {},
   "outputs": [],
   "source": [
    "\n",
    "A = np.random.randint(1, 21, (3, 3))\n",
    "B = np.random.randint(1, 21, (3, 3))\n",
    "\n",
    "print(\"Матрица A:\n",
    "\", A)\n",
    "print(\"Матрица B:\n",
    "\", B)\n",
    "\n",
    "print(\"Сумма A + B:\n",
    "\", A + B)\n",
    "print(\"Разность A - B:\n",
    "\", A - B)\n",
    "print(\"Поэлементное произведение A * B:\n",
    "\", A * B)\n",
    "    "
   ]
  },
  {
   "cell_type": "markdown",
   "id": "eda94f10",
   "metadata": {},
   "source": [
    "## Задание 7"
   ]
  },
  {
   "cell_type": "code",
   "execution_count": null,
   "id": "d0c19e9c",
   "metadata": {},
   "outputs": [],
   "source": [
    "\n",
    "A = np.random.randint(1, 11, (2, 3))\n",
    "B = np.random.randint(1, 11, (3, 2))\n",
    "\n",
    "print(\"Матрица A:\n",
    "\", A)\n",
    "print(\"Матрица B:\n",
    "\", B)\n",
    "\n",
    "C = A @ B\n",
    "print(\"Результат умножения A @ B:\n",
    "\", C)\n",
    "    "
   ]
  },
  {
   "cell_type": "markdown",
   "id": "b8367aef",
   "metadata": {},
   "source": [
    "## Задание 8"
   ]
  },
  {
   "cell_type": "code",
   "execution_count": null,
   "id": "67baddc8",
   "metadata": {},
   "outputs": [],
   "source": [
    "\n",
    "matrix = np.random.randint(1, 11, (3, 3))\n",
    "print(\"Матрица:\n",
    "\", matrix)\n",
    "\n",
    "det = np.linalg.det(matrix)\n",
    "print(\"Определитель:\", det)\n",
    "\n",
    "if np.isclose(det, 0):\n",
    "    print(\"Матрица вырождена, обратной матрицы нет.\")\n",
    "else:\n",
    "    inverse = np.linalg.inv(matrix)\n",
    "    print(\"Обратная матрица:\n",
    "\", inverse)\n",
    "    "
   ]
  },
  {
   "cell_type": "markdown",
   "id": "5bf0ae2f",
   "metadata": {},
   "source": [
    "## Задание 9"
   ]
  },
  {
   "cell_type": "code",
   "execution_count": null,
   "id": "61869422",
   "metadata": {},
   "outputs": [],
   "source": [
    "\n",
    "matrix = np.random.randint(1, 51, (4, 4))\n",
    "print(\"Исходная матрица:\n",
    "\", matrix)\n",
    "\n",
    "print(\"Транспонированная матрица:\n",
    "\", matrix.T)\n",
    "\n",
    "trace = np.trace(matrix)\n",
    "print(\"След матрицы:\", trace)\n",
    "    "
   ]
  },
  {
   "cell_type": "markdown",
   "id": "3e1defc7",
   "metadata": {},
   "source": [
    "## Задание 10"
   ]
  },
  {
   "cell_type": "code",
   "execution_count": null,
   "id": "ed18e501",
   "metadata": {},
   "outputs": [],
   "source": [
    "\n",
    "A = np.array([\n",
    "    [2, 3, -1],\n",
    "    [4, -1, 2],\n",
    "    [-3, 5, 4]\n",
    "])\n",
    "\n",
    "B = np.array([5, 6, -2])\n",
    "\n",
    "solution = np.linalg.solve(A, B)\n",
    "print(\"Решение системы:\", solution)\n",
    "    "
   ]
  },
  {
   "cell_type": "markdown",
   "id": "816a6e2f",
   "metadata": {},
   "source": [
    "## Задание 11"
   ]
  },
  {
   "cell_type": "code",
   "execution_count": null,
   "id": "ac8e958c",
   "metadata": {},
   "outputs": [],
   "source": [
    "\n",
    "# Финансовая стратегия инвестора\n",
    "# Обозначим x — вложение во 2-ю компанию\n",
    "# Тогда в 1-ю — 2x, в 3-ю — x+10000\n",
    "# 2x + x + (x + 10000) = 300000\n",
    "# Решим систему\n",
    "\n",
    "import numpy as np\n",
    "\n",
    "A = np.array([\n",
    "    [2, 1, 0],\n",
    "    [0, 1, 1],\n",
    "    [1, 1, 1]\n",
    "])\n",
    "\n",
    "B = np.array([0, 10000, 300000])\n",
    "\n",
    "# Решение с помощью np.linalg.solve\n",
    "solution = np.linalg.solve(A, B)\n",
    "print(\"Решение через np.linalg.solve:\", solution)\n",
    "\n",
    "# Решение методом Крамера\n",
    "from numpy.linalg import det\n",
    "\n",
    "detA = det(A)\n",
    "detA1 = det(np.column_stack((B, A[:,1], A[:,2])))\n",
    "detA2 = det(np.column_stack((A[:,0], B, A[:,2])))\n",
    "detA3 = det(np.column_stack((A[:,0], A[:,1], B)))\n",
    "\n",
    "x1 = detA1 / detA\n",
    "x2 = detA2 / detA\n",
    "x3 = detA3 / detA\n",
    "\n",
    "print(\"Решение методом Крамера:\", [x1, x2, x3])\n",
    "    "
   ]
  }
 ],
 "metadata": {},
 "nbformat": 4,
 "nbformat_minor": 5
}
